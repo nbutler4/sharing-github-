{
 "cells": [
  {
   "cell_type": "markdown",
   "metadata": {},
   "source": [
    "Nate Butler \n",
    "GEOG 682 Lab 4\n",
    "7/10/19"
   ]
  },
  {
   "cell_type": "code",
   "execution_count": null,
   "metadata": {},
   "outputs": [],
   "source": [
    "import rasterio\n",
    "from rasterio import plot \n",
    "import matplotlib.pyplot as plt "
   ]
  },
  {
   "cell_type": "code",
   "execution_count": null,
   "metadata": {},
   "outputs": [],
   "source": [
    "# Display tif image using rasterio\n",
    "Satdata1 = rasterio.open('image1.tif')"
   ]
  },
  {
   "cell_type": "code",
   "execution_count": null,
   "metadata": {},
   "outputs": [],
   "source": [
    "# Display tif image using rasterio\n",
    "Satdata2 = rasterio.open('image2.tif')"
   ]
  },
  {
   "cell_type": "code",
   "execution_count": null,
   "metadata": {},
   "outputs": [],
   "source": [
    "#plot showing the Sentinel-2 scenes using the terrain colormap\n",
    "plot.show(Satdata1, cmap='terrain')"
   ]
  },
  {
   "cell_type": "code",
   "execution_count": null,
   "metadata": {},
   "outputs": [],
   "source": [
    "#plot showing the Sentinel-2 scenes using the terrain colormap\n",
    "plot.show(Satdata2, cmap='terrain')"
   ]
  },
  {
   "cell_type": "code",
   "execution_count": null,
   "metadata": {},
   "outputs": [],
   "source": [
    "#write raster CRS\n",
    "Satdata1.crs"
   ]
  },
  {
   "cell_type": "code",
   "execution_count": null,
   "metadata": {},
   "outputs": [],
   "source": [
    "#write raster CRS\n",
    "Satdata2.crs"
   ]
  },
  {
   "cell_type": "code",
   "execution_count": null,
   "metadata": {},
   "outputs": [],
   "source": [
    "#plot all of the bands in image1 individually including an appropriate title and colormap\n",
    "fig, (axr, axg, axb) = plt.subplots(1,3, figsize=(20,5))\n",
    "plot.show((Satdata1, 3), ax=axr, cmap='Reds', title='red channel')\n",
    "plot.show((Satdata1, 2), ax=axg, cmap='Greens', title='green channel')\n",
    "plot.show((Satdata1, 1), ax=axb, cmap='Blues', title='blue channel')"
   ]
  },
  {
   "cell_type": "code",
   "execution_count": null,
   "metadata": {},
   "outputs": [],
   "source": [
    "#Merge image from \"image1\" and \"image2\"\n",
    "mosaic, out_trans = merge('Satdat1','Satdat2')"
   ]
  },
  {
   "cell_type": "code",
   "execution_count": null,
   "metadata": {},
   "outputs": [],
   "source": [
    "#Plot as a terrain colormap"
   ]
  }
 ],
 "metadata": {
  "kernelspec": {
   "display_name": "Python 3",
   "language": "python",
   "name": "python3"
  },
  "language_info": {
   "codemirror_mode": {
    "name": "ipython",
    "version": 3
   },
   "file_extension": ".py",
   "mimetype": "text/x-python",
   "name": "python",
   "nbconvert_exporter": "python",
   "pygments_lexer": "ipython3",
   "version": "3.7.3"
  }
 },
 "nbformat": 4,
 "nbformat_minor": 2
}
